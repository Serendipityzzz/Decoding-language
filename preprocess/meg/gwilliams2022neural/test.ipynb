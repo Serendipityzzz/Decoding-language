{
 "cells": [
  {
   "cell_type": "code",
   "execution_count": 2,
   "metadata": {},
   "outputs": [
    {
     "name": "stdout",
     "output_type": "stream",
     "text": [
      "start read file\n",
      "read file done\n"
     ]
    }
   ],
   "source": [
    "import os\n",
    "import numpy as np\n",
    "import pandas as pd\n",
    "# local dep\n",
    "if __name__ == \"__main__\":\n",
    "    import os, sys\n",
    "    sys.path.insert(0, os.path.join(os.pardir, os.pardir, os.pardir))\n",
    "    \n",
    "from utils import DotDict\n",
    "from utils.data import save_pickle,load_pickle\n",
    "\n",
    "print('start read file')\n",
    "file = load_pickle(\"F:\\\\PKU2\\\\curriculum\\\\computer_science\\\\NLP\\\\Hw4\\\\mycode\\\\data\\\\meg.gwilliams2022neural\\\\sub-01\\\\dataset.origin\")\n",
    "print('read file done')"
   ]
  },
  {
   "cell_type": "code",
   "execution_count": 3,
   "metadata": {},
   "outputs": [
    {
     "name": "stdout",
     "output_type": "stream",
     "text": [
      "(66150,)\n",
      "(360, 208)\n"
     ]
    }
   ],
   "source": [
    "print(file['train'][0]['audio'][1].shape)\n",
    "print(file['train'][0]['data'][1].shape)"
   ]
  },
  {
   "cell_type": "code",
   "execution_count": 21,
   "metadata": {},
   "outputs": [
    {
     "name": "stdout",
     "output_type": "stream",
     "text": [
      "torch.Size([1, 1, 110250])\n",
      "Original array shape: torch.Size([1, 1, 110250])\n",
      "Downsampled array shape: torch.Size([1, 1, 80000])\n",
      "Original sample rate: 22050\n",
      "Target sample rate: 16000\n"
     ]
    }
   ],
   "source": [
    "import torch\n",
    "import torch.nn.functional as F\n",
    "\n",
    "# Define the original sample rate and target sample rate\n",
    "original_sample_rate = 22050\n",
    "target_sample_rate = 16000\n",
    "\n",
    "# Generate a random audio array as an example\n",
    "audio_array = torch.randn(original_sample_rate * 5)  # Assuming 5 seconds of audio\n",
    "\n",
    "# Calculate the original time length\n",
    "original_time_length = len(audio_array) / original_sample_rate\n",
    "\n",
    "# Calculate the target time length\n",
    "target_time_length = original_time_length * (target_sample_rate / original_sample_rate)\n",
    "\n",
    "# Reshape the audio array to match the time length\n",
    "audio_array = audio_array.view(1, 1, -1)\n",
    "print(audio_array.shape)\n",
    "# Perform downsampling using interpolate function\n",
    "# downsampled_array = F.interpolate(audio_array, size=(int(target_time_length * target_sample_rate)), mode='linear')\n",
    "downsampled_array = F.interpolate(audio_array, size=(int(5 * target_sample_rate)), mode='linear')\n",
    "# Reshape the downsampled array to its final shape\n",
    "\n",
    "# Print the shapes and sample rates\n",
    "print(\"Original array shape:\", audio_array.shape)\n",
    "print(\"Downsampled array shape:\", downsampled_array.shape)\n",
    "print(\"Original sample rate:\", original_sample_rate)\n",
    "print(\"Target sample rate:\", target_sample_rate)\n"
   ]
  },
  {
   "cell_type": "code",
   "execution_count": 15,
   "metadata": {},
   "outputs": [
    {
     "name": "stdout",
     "output_type": "stream",
     "text": [
      "tensor([[[[ 0.,  1.,  2.],\n",
      "          [ 3.,  4.,  5.]],\n",
      "\n",
      "         [[ 6.,  7.,  8.],\n",
      "          [ 9., 10., 11.]]]])\n",
      "tensor([[[[ 0.0000,  0.6250,  1.3750,  2.0000],\n",
      "          [ 0.7500,  1.3750,  2.1250,  2.7500],\n",
      "          [ 2.2500,  2.8750,  3.6250,  4.2500],\n",
      "          [ 3.0000,  3.6250,  4.3750,  5.0000]],\n",
      "\n",
      "         [[ 6.0000,  6.6250,  7.3750,  8.0000],\n",
      "          [ 6.7500,  7.3750,  8.1250,  8.7500],\n",
      "          [ 8.2500,  8.8750,  9.6250, 10.2500],\n",
      "          [ 9.0000,  9.6250, 10.3750, 11.0000]]]])\n",
      "原数组尺寸: torch.Size([1, 2, 2, 3])\n",
      "size采样尺寸: torch.Size([1, 2, 4, 4])\n"
     ]
    }
   ],
   "source": [
    "import torch.nn.functional as F\n",
    "import torch\n",
    "\n",
    "a=torch.arange(12,dtype=torch.float32).reshape(1,2,2,3)\n",
    "b=F.interpolate(a,size=(4,4),mode='bilinear')\n",
    "# 这里的(4,4)指的是将后两个维度放缩成4*4的大小\n",
    "print(a)\n",
    "print(b)\n",
    "print('原数组尺寸:',a.shape)\n",
    "print('size采样尺寸:',b.shape)\n"
   ]
  }
 ],
 "metadata": {
  "kernelspec": {
   "display_name": "meg",
   "language": "python",
   "name": "python3"
  },
  "language_info": {
   "codemirror_mode": {
    "name": "ipython",
    "version": 3
   },
   "file_extension": ".py",
   "mimetype": "text/x-python",
   "name": "python",
   "nbconvert_exporter": "python",
   "pygments_lexer": "ipython3",
   "version": "3.11.4"
  },
  "orig_nbformat": 4
 },
 "nbformat": 4,
 "nbformat_minor": 2
}
